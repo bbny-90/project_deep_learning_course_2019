{
 "cells": [
  {
   "cell_type": "code",
   "execution_count": 1,
   "metadata": {},
   "outputs": [],
   "source": [
    "import numpy as np\n",
    "import tensorflow as tf\n",
    "import h5py\n",
    "import matplotlib.pyplot as plt"
   ]
  },
  {
   "cell_type": "code",
   "execution_count": 2,
   "metadata": {},
   "outputs": [],
   "source": [
    "from utils.get_svhn import *"
   ]
  },
  {
   "cell_type": "code",
   "execution_count": 3,
   "metadata": {},
   "outputs": [
    {
     "name": "stdout",
     "output_type": "stream",
     "text": [
      "Start downloading training data.\n",
      "Complete downloading training data.\n",
      "Start downloading test data.\n",
      "Complete downloading test data.\n"
     ]
    }
   ],
   "source": [
    "# download SVHN dataset\n",
    "\n",
    "download_svhn()"
   ]
  },
  {
   "cell_type": "code",
   "execution_count": 4,
   "metadata": {},
   "outputs": [
    {
     "name": "stdout",
     "output_type": "stream",
     "text": [
      "Start untaring training data.\n",
      "Complete untaring training data.\n",
      "Start untaring test data.\n",
      "Complete untaring test data.\n"
     ]
    }
   ],
   "source": [
    "# untar SVHN dataset\n",
    "\n",
    "untar_svhn()"
   ]
  },
  {
   "cell_type": "code",
   "execution_count": 2,
   "metadata": {},
   "outputs": [],
   "source": [
    "# extract data into h5py format\n",
    "\n",
    "trainData = h5py.File('data/train/digitStruct.mat', 'r')\n",
    "testData = h5py.File('data/test/digitStruct.mat', 'r')"
   ]
  },
  {
   "cell_type": "code",
   "execution_count": 3,
   "metadata": {},
   "outputs": [],
   "source": [
    "from utils.data_extractor import generate_trainable_data,preprocess_data"
   ]
  },
  {
   "cell_type": "code",
   "execution_count": 4,
   "metadata": {},
   "outputs": [],
   "source": [
    "# define the size of the data after extracting\n",
    "\n",
    "size = 64"
   ]
  },
  {
   "cell_type": "code",
   "execution_count": 5,
   "metadata": {},
   "outputs": [
    {
     "name": "stderr",
     "output_type": "stream",
     "text": [
      "/home/ecbm4040/miniconda3/envs/envTF113/lib/python3.6/site-packages/h5py/_hl/dataset.py:313: H5pyDeprecationWarning: dataset.value has been deprecated. Use dataset[()] instead.\n",
      "  \"Use dataset[()] instead.\", H5pyDeprecationWarning)\n"
     ]
    }
   ],
   "source": [
    "# transform data into array\n",
    "\n",
    "X_train, y_train = generate_trainable_data(trainData, size, 'train')\n",
    "X_test, y_test = generate_trainable_data(testData, size, 'test')"
   ]
  },
  {
   "cell_type": "code",
   "execution_count": 6,
   "metadata": {},
   "outputs": [],
   "source": [
    "# preprocess data\n",
    "\n",
    "X_train, X_test = preprocess_data(X_train, X_test)"
   ]
  },
  {
   "cell_type": "code",
   "execution_count": 7,
   "metadata": {},
   "outputs": [],
   "source": [
    "# one hot encoding\n",
    "\n",
    "y_train_dummy = tf.keras.utils.to_categorical(y_train)\n",
    "y_test_dummy = tf.keras.utils.to_categorical(y_test)"
   ]
  },
  {
   "cell_type": "code",
   "execution_count": 8,
   "metadata": {},
   "outputs": [],
   "source": [
    "# transform format of labels to fit the model\n",
    "\n",
    "y_train_multi = []\n",
    "y_test_multi = []\n",
    "for i in range(6):\n",
    "    y_train_multi.append(y_train_dummy[:,i])\n",
    "    y_test_multi.append(y_test_dummy[:,i])"
   ]
  },
  {
   "cell_type": "code",
   "execution_count": 9,
   "metadata": {},
   "outputs": [],
   "source": [
    "from utils.cnn.dense import dense_model"
   ]
  },
  {
   "cell_type": "code",
   "execution_count": 10,
   "metadata": {},
   "outputs": [
    {
     "name": "stdout",
     "output_type": "stream",
     "text": [
      "WARNING:tensorflow:From /home/ecbm4040/miniconda3/envs/envTF113/lib/python3.6/site-packages/tensorflow/python/ops/resource_variable_ops.py:435: colocate_with (from tensorflow.python.framework.ops) is deprecated and will be removed in a future version.\n",
      "Instructions for updating:\n",
      "Colocations handled automatically by placer.\n",
      "WARNING:tensorflow:From /home/ecbm4040/miniconda3/envs/envTF113/lib/python3.6/site-packages/tensorflow/python/keras/layers/core.py:143: calling dropout (from tensorflow.python.ops.nn_ops) with keep_prob is deprecated and will be removed in a future version.\n",
      "Instructions for updating:\n",
      "Please use `rate` instead of `keep_prob`. Rate should be set to `rate = 1 - keep_prob`.\n"
     ]
    }
   ],
   "source": [
    "input_shape = (size, size, 3)\n",
    "\n",
    "model = dense_model(input_shape)"
   ]
  },
  {
   "cell_type": "code",
   "execution_count": 11,
   "metadata": {},
   "outputs": [],
   "source": [
    "model.compile(optimizer='Adam', loss='categorical_crossentropy', metrics=['accuracy'])"
   ]
  },
  {
   "cell_type": "code",
   "execution_count": 12,
   "metadata": {
    "scrolled": true
   },
   "outputs": [
    {
     "name": "stdout",
     "output_type": "stream",
     "text": [
      "Train on 26721 samples, validate on 6681 samples\n",
      "WARNING:tensorflow:From /home/ecbm4040/miniconda3/envs/envTF113/lib/python3.6/site-packages/tensorflow/python/ops/math_ops.py:3066: to_int32 (from tensorflow.python.ops.math_ops) is deprecated and will be removed in a future version.\n",
      "Instructions for updating:\n",
      "Use tf.cast instead.\n",
      "Epoch 1/20\n",
      "26721/26721 [==============================] - 60s 2ms/sample - loss: 8.3694 - dense_2_loss: 1.3478 - dense_3_loss: 2.4972 - dense_4_loss: 2.7712 - dense_5_loss: 1.4233 - dense_6_loss: 0.3007 - dense_7_loss: 0.0291 - dense_2_acc: 0.5653 - dense_3_acc: 0.2733 - dense_4_acc: 0.1790 - dense_5_acc: 0.6912 - dense_6_acc: 0.9529 - dense_7_acc: 0.9949 - val_loss: 8.4975 - val_dense_2_loss: 1.6582 - val_dense_3_loss: 1.9930 - val_dense_4_loss: 2.4600 - val_dense_5_loss: 1.9194 - val_dense_6_loss: 0.4617 - val_dense_7_loss: 0.0051 - val_dense_2_acc: 0.2663 - val_dense_3_acc: 0.2935 - val_dense_4_acc: 0.1317 - val_dense_5_acc: 0.5246 - val_dense_6_acc: 0.9543 - val_dense_7_acc: 0.9999\n",
      "Epoch 2/20\n",
      "26721/26721 [==============================] - 53s 2ms/sample - loss: 4.4394 - dense_2_loss: 0.4857 - dense_3_loss: 1.3385 - dense_4_loss: 1.5496 - dense_5_loss: 0.8588 - dense_6_loss: 0.2030 - dense_7_loss: 0.0037 - dense_2_acc: 0.8088 - dense_3_acc: 0.5565 - dense_4_acc: 0.4849 - dense_5_acc: 0.7439 - dense_6_acc: 0.9576 - dense_7_acc: 0.9997 - val_loss: 3.4921 - val_dense_2_loss: 0.3850 - val_dense_3_loss: 0.9581 - val_dense_4_loss: 1.1482 - val_dense_5_loss: 0.7583 - val_dense_6_loss: 0.2399 - val_dense_7_loss: 0.0026 - val_dense_2_acc: 0.8659 - val_dense_3_acc: 0.7069 - val_dense_4_acc: 0.6586 - val_dense_5_acc: 0.7834 - val_dense_6_acc: 0.9518 - val_dense_7_acc: 0.9999\n",
      "Epoch 3/20\n",
      "26721/26721 [==============================] - 54s 2ms/sample - loss: 2.4222 - dense_2_loss: 0.2391 - dense_3_loss: 0.7034 - dense_4_loss: 0.8088 - dense_5_loss: 0.5284 - dense_6_loss: 0.1391 - dense_7_loss: 0.0035 - dense_2_acc: 0.9146 - dense_3_acc: 0.7758 - dense_4_acc: 0.7423 - dense_5_acc: 0.8343 - dense_6_acc: 0.9625 - dense_7_acc: 0.9997 - val_loss: 1.9979 - val_dense_2_loss: 0.1934 - val_dense_3_loss: 0.5654 - val_dense_4_loss: 0.6388 - val_dense_5_loss: 0.4660 - val_dense_6_loss: 0.1313 - val_dense_7_loss: 0.0029 - val_dense_2_acc: 0.9329 - val_dense_3_acc: 0.8238 - val_dense_4_acc: 0.8054 - val_dense_5_acc: 0.8606 - val_dense_6_acc: 0.9612 - val_dense_7_acc: 0.9999\n",
      "Epoch 4/20\n",
      "26721/26721 [==============================] - 54s 2ms/sample - loss: 1.7340 - dense_2_loss: 0.1673 - dense_3_loss: 0.5089 - dense_4_loss: 0.5594 - dense_5_loss: 0.3861 - dense_6_loss: 0.1094 - dense_7_loss: 0.0029 - dense_2_acc: 0.9423 - dense_3_acc: 0.8393 - dense_4_acc: 0.8223 - dense_5_acc: 0.8800 - dense_6_acc: 0.9686 - dense_7_acc: 0.9997 - val_loss: 1.6185 - val_dense_2_loss: 0.1597 - val_dense_3_loss: 0.4872 - val_dense_4_loss: 0.5030 - val_dense_5_loss: 0.3587 - val_dense_6_loss: 0.1071 - val_dense_7_loss: 0.0027 - val_dense_2_acc: 0.9460 - val_dense_3_acc: 0.8479 - val_dense_4_acc: 0.8451 - val_dense_5_acc: 0.8910 - val_dense_6_acc: 0.9701 - val_dense_7_acc: 0.9999\n",
      "Epoch 5/20\n",
      "26721/26721 [==============================] - 54s 2ms/sample - loss: 1.3841 - dense_2_loss: 0.1314 - dense_3_loss: 0.4126 - dense_4_loss: 0.4490 - dense_5_loss: 0.3011 - dense_6_loss: 0.0871 - dense_7_loss: 0.0029 - dense_2_acc: 0.9550 - dense_3_acc: 0.8710 - dense_4_acc: 0.8603 - dense_5_acc: 0.9061 - dense_6_acc: 0.9737 - dense_7_acc: 0.9997 - val_loss: 1.4833 - val_dense_2_loss: 0.1522 - val_dense_3_loss: 0.4184 - val_dense_4_loss: 0.4611 - val_dense_5_loss: 0.3415 - val_dense_6_loss: 0.1074 - val_dense_7_loss: 0.0027 - val_dense_2_acc: 0.9461 - val_dense_3_acc: 0.8654 - val_dense_4_acc: 0.8581 - val_dense_5_acc: 0.8964 - val_dense_6_acc: 0.9680 - val_dense_7_acc: 0.9999\n",
      "Epoch 6/20\n",
      "26721/26721 [==============================] - 53s 2ms/sample - loss: 1.1464 - dense_2_loss: 0.1088 - dense_3_loss: 0.3480 - dense_4_loss: 0.3708 - dense_5_loss: 0.2494 - dense_6_loss: 0.0675 - dense_7_loss: 0.0019 - dense_2_acc: 0.9615 - dense_3_acc: 0.8909 - dense_4_acc: 0.8818 - dense_5_acc: 0.9214 - dense_6_acc: 0.9792 - dense_7_acc: 0.9997 - val_loss: 1.4026 - val_dense_2_loss: 0.1503 - val_dense_3_loss: 0.4108 - val_dense_4_loss: 0.4321 - val_dense_5_loss: 0.3104 - val_dense_6_loss: 0.0965 - val_dense_7_loss: 0.0026 - val_dense_2_acc: 0.9530 - val_dense_3_acc: 0.8770 - val_dense_4_acc: 0.8725 - val_dense_5_acc: 0.9068 - val_dense_6_acc: 0.9741 - val_dense_7_acc: 0.9999\n",
      "Epoch 7/20\n",
      "26721/26721 [==============================] - 53s 2ms/sample - loss: 0.9697 - dense_2_loss: 0.0903 - dense_3_loss: 0.2983 - dense_4_loss: 0.3117 - dense_5_loss: 0.2080 - dense_6_loss: 0.0593 - dense_7_loss: 0.0020 - dense_2_acc: 0.9686 - dense_3_acc: 0.9060 - dense_4_acc: 0.9024 - dense_5_acc: 0.9332 - dense_6_acc: 0.9817 - dense_7_acc: 0.9997 - val_loss: 1.2821 - val_dense_2_loss: 0.1354 - val_dense_3_loss: 0.3816 - val_dense_4_loss: 0.3936 - val_dense_5_loss: 0.2726 - val_dense_6_loss: 0.0961 - val_dense_7_loss: 0.0028 - val_dense_2_acc: 0.9540 - val_dense_3_acc: 0.8824 - val_dense_4_acc: 0.8846 - val_dense_5_acc: 0.9186 - val_dense_6_acc: 0.9729 - val_dense_7_acc: 0.9999\n",
      "Epoch 8/20\n",
      "26721/26721 [==============================] - 53s 2ms/sample - loss: 0.8440 - dense_2_loss: 0.0776 - dense_3_loss: 0.2674 - dense_4_loss: 0.2732 - dense_5_loss: 0.1760 - dense_6_loss: 0.0481 - dense_7_loss: 0.0017 - dense_2_acc: 0.9730 - dense_3_acc: 0.9148 - dense_4_acc: 0.9152 - dense_5_acc: 0.9438 - dense_6_acc: 0.9856 - dense_7_acc: 0.9997 - val_loss: 1.2245 - val_dense_2_loss: 0.1306 - val_dense_3_loss: 0.3531 - val_dense_4_loss: 0.3884 - val_dense_5_loss: 0.2651 - val_dense_6_loss: 0.0846 - val_dense_7_loss: 0.0027 - val_dense_2_acc: 0.9567 - val_dense_3_acc: 0.8949 - val_dense_4_acc: 0.8897 - val_dense_5_acc: 0.9238 - val_dense_6_acc: 0.9784 - val_dense_7_acc: 0.9999\n",
      "Epoch 9/20\n",
      "26721/26721 [==============================] - 54s 2ms/sample - loss: 0.7326 - dense_2_loss: 0.0678 - dense_3_loss: 0.2316 - dense_4_loss: 0.2382 - dense_5_loss: 0.1508 - dense_6_loss: 0.0426 - dense_7_loss: 0.0014 - dense_2_acc: 0.9769 - dense_3_acc: 0.9269 - dense_4_acc: 0.9242 - dense_5_acc: 0.9515 - dense_6_acc: 0.9868 - dense_7_acc: 0.9996 - val_loss: 1.2608 - val_dense_2_loss: 0.1432 - val_dense_3_loss: 0.3801 - val_dense_4_loss: 0.3795 - val_dense_5_loss: 0.2732 - val_dense_6_loss: 0.0822 - val_dense_7_loss: 0.0027 - val_dense_2_acc: 0.9564 - val_dense_3_acc: 0.8904 - val_dense_4_acc: 0.8916 - val_dense_5_acc: 0.9244 - val_dense_6_acc: 0.9787 - val_dense_7_acc: 0.9999\n",
      "Epoch 10/20\n",
      "26721/26721 [==============================] - 54s 2ms/sample - loss: 0.6443 - dense_2_loss: 0.0583 - dense_3_loss: 0.2048 - dense_4_loss: 0.2119 - dense_5_loss: 0.1311 - dense_6_loss: 0.0370 - dense_7_loss: 0.0012 - dense_2_acc: 0.9795 - dense_3_acc: 0.9318 - dense_4_acc: 0.9302 - dense_5_acc: 0.9567 - dense_6_acc: 0.9879 - dense_7_acc: 0.9997 - val_loss: 1.2822 - val_dense_2_loss: 0.1491 - val_dense_3_loss: 0.3694 - val_dense_4_loss: 0.3897 - val_dense_5_loss: 0.2721 - val_dense_6_loss: 0.0998 - val_dense_7_loss: 0.0021 - val_dense_2_acc: 0.9579 - val_dense_3_acc: 0.8925 - val_dense_4_acc: 0.8900 - val_dense_5_acc: 0.9261 - val_dense_6_acc: 0.9787 - val_dense_7_acc: 0.9999\n",
      "Epoch 11/20\n",
      "26721/26721 [==============================] - 54s 2ms/sample - loss: 0.5559 - dense_2_loss: 0.0485 - dense_3_loss: 0.1861 - dense_4_loss: 0.1821 - dense_5_loss: 0.1086 - dense_6_loss: 0.0299 - dense_7_loss: 6.2353e-04 - dense_2_acc: 0.9828 - dense_3_acc: 0.9403 - dense_4_acc: 0.9414 - dense_5_acc: 0.9643 - dense_6_acc: 0.9906 - dense_7_acc: 0.9997 - val_loss: 1.2958 - val_dense_2_loss: 0.1405 - val_dense_3_loss: 0.3707 - val_dense_4_loss: 0.4206 - val_dense_5_loss: 0.2741 - val_dense_6_loss: 0.0873 - val_dense_7_loss: 0.0026 - val_dense_2_acc: 0.9587 - val_dense_3_acc: 0.8946 - val_dense_4_acc: 0.8895 - val_dense_5_acc: 0.9300 - val_dense_6_acc: 0.9777 - val_dense_7_acc: 0.9999\n",
      "Epoch 12/20\n",
      "26721/26721 [==============================] - 54s 2ms/sample - loss: 0.5061 - dense_2_loss: 0.0424 - dense_3_loss: 0.1696 - dense_4_loss: 0.1645 - dense_5_loss: 0.1010 - dense_6_loss: 0.0280 - dense_7_loss: 6.0183e-04 - dense_2_acc: 0.9844 - dense_3_acc: 0.9468 - dense_4_acc: 0.9452 - dense_5_acc: 0.9664 - dense_6_acc: 0.9911 - dense_7_acc: 0.9998 - val_loss: 1.3633 - val_dense_2_loss: 0.1613 - val_dense_3_loss: 0.3906 - val_dense_4_loss: 0.4216 - val_dense_5_loss: 0.2900 - val_dense_6_loss: 0.0969 - val_dense_7_loss: 0.0029 - val_dense_2_acc: 0.9576 - val_dense_3_acc: 0.8984 - val_dense_4_acc: 0.8942 - val_dense_5_acc: 0.9332 - val_dense_6_acc: 0.9795 - val_dense_7_acc: 0.9996\n",
      "Epoch 13/20\n",
      "26721/26721 [==============================] - 54s 2ms/sample - loss: 0.4453 - dense_2_loss: 0.0362 - dense_3_loss: 0.1523 - dense_4_loss: 0.1434 - dense_5_loss: 0.0881 - dense_6_loss: 0.0243 - dense_7_loss: 9.7120e-04 - dense_2_acc: 0.9872 - dense_3_acc: 0.9494 - dense_4_acc: 0.9523 - dense_5_acc: 0.9713 - dense_6_acc: 0.9918 - dense_7_acc: 0.9997 - val_loss: 1.3765 - val_dense_2_loss: 0.1454 - val_dense_3_loss: 0.4295 - val_dense_4_loss: 0.4326 - val_dense_5_loss: 0.2801 - val_dense_6_loss: 0.0862 - val_dense_7_loss: 0.0028 - val_dense_2_acc: 0.9636 - val_dense_3_acc: 0.8927 - val_dense_4_acc: 0.8963 - val_dense_5_acc: 0.9334 - val_dense_6_acc: 0.9819 - val_dense_7_acc: 0.9999\n",
      "Epoch 00013: early stopping\n"
     ]
    }
   ],
   "source": [
    "from tensorflow.keras.callbacks import EarlyStopping,TensorBoard\n",
    "from time import time\n",
    "\n",
    "early_stopping = EarlyStopping(monitor='val_loss', patience=5, verbose=2)\n",
    "tensorboard = TensorBoard(log_dir=\"log/{}\".format(time()))\n",
    "\n",
    "history_train = model.fit(X_train, y_train_multi, validation_split=0.2, batch_size=128, epochs=20, callbacks=[early_stopping, tensorboard])"
   ]
  },
  {
   "cell_type": "code",
   "execution_count": 13,
   "metadata": {},
   "outputs": [
    {
     "name": "stdout",
     "output_type": "stream",
     "text": [
      "13068/13068 [==============================] - 10s 770us/sample - loss: 1.4384 - dense_2_loss: 0.1929 - dense_3_loss: 0.4692 - dense_4_loss: 0.5128 - dense_5_loss: 0.2333 - dense_6_loss: 0.0282 - dense_7_loss: 0.0020 - dense_2_acc: 0.9575 - dense_3_acc: 0.8872 - dense_4_acc: 0.8810 - dense_5_acc: 0.9500 - dense_6_acc: 0.9932 - dense_7_acc: 0.9998\n"
     ]
    }
   ],
   "source": [
    "result = model.evaluate(X_test, y_test_multi)"
   ]
  },
  {
   "cell_type": "code",
   "execution_count": 14,
   "metadata": {},
   "outputs": [
    {
     "data": {
      "text/plain": [
       "[0.9574533, 0.88720536, 0.881007, 0.9499541, 0.99318945, 0.99984694]"
      ]
     },
     "execution_count": 14,
     "metadata": {},
     "output_type": "execute_result"
    }
   ],
   "source": [
    "result[7:]"
   ]
  },
  {
   "cell_type": "code",
   "execution_count": 15,
   "metadata": {},
   "outputs": [],
   "source": [
    "# predict\n",
    "\n",
    "y_pred = np.array(model.predict(X_test))"
   ]
  },
  {
   "cell_type": "code",
   "execution_count": 16,
   "metadata": {},
   "outputs": [],
   "source": [
    "# transform prediction of probability into labels\n",
    "\n",
    "pred_label = np.transpose(y_pred.argmax(axis=2))"
   ]
  },
  {
   "cell_type": "code",
   "execution_count": 17,
   "metadata": {},
   "outputs": [
    {
     "data": {
      "text/html": [
       "<div>\n",
       "<style scoped>\n",
       "    .dataframe tbody tr th:only-of-type {\n",
       "        vertical-align: middle;\n",
       "    }\n",
       "\n",
       "    .dataframe tbody tr th {\n",
       "        vertical-align: top;\n",
       "    }\n",
       "\n",
       "    .dataframe thead th {\n",
       "        text-align: right;\n",
       "    }\n",
       "</style>\n",
       "<table border=\"1\" class=\"dataframe\">\n",
       "  <thead>\n",
       "    <tr style=\"text-align: right;\">\n",
       "      <th></th>\n",
       "      <th>0</th>\n",
       "      <th>1</th>\n",
       "      <th>2</th>\n",
       "      <th>3</th>\n",
       "      <th>4</th>\n",
       "      <th>5</th>\n",
       "    </tr>\n",
       "  </thead>\n",
       "  <tbody>\n",
       "    <tr>\n",
       "      <td>0</td>\n",
       "      <td>True</td>\n",
       "      <td>True</td>\n",
       "      <td>True</td>\n",
       "      <td>True</td>\n",
       "      <td>True</td>\n",
       "      <td>True</td>\n",
       "    </tr>\n",
       "    <tr>\n",
       "      <td>1</td>\n",
       "      <td>True</td>\n",
       "      <td>True</td>\n",
       "      <td>True</td>\n",
       "      <td>True</td>\n",
       "      <td>True</td>\n",
       "      <td>True</td>\n",
       "    </tr>\n",
       "    <tr>\n",
       "      <td>2</td>\n",
       "      <td>True</td>\n",
       "      <td>True</td>\n",
       "      <td>True</td>\n",
       "      <td>True</td>\n",
       "      <td>True</td>\n",
       "      <td>True</td>\n",
       "    </tr>\n",
       "    <tr>\n",
       "      <td>3</td>\n",
       "      <td>True</td>\n",
       "      <td>False</td>\n",
       "      <td>True</td>\n",
       "      <td>True</td>\n",
       "      <td>True</td>\n",
       "      <td>True</td>\n",
       "    </tr>\n",
       "    <tr>\n",
       "      <td>4</td>\n",
       "      <td>True</td>\n",
       "      <td>False</td>\n",
       "      <td>True</td>\n",
       "      <td>True</td>\n",
       "      <td>True</td>\n",
       "      <td>True</td>\n",
       "    </tr>\n",
       "    <tr>\n",
       "      <td>...</td>\n",
       "      <td>...</td>\n",
       "      <td>...</td>\n",
       "      <td>...</td>\n",
       "      <td>...</td>\n",
       "      <td>...</td>\n",
       "      <td>...</td>\n",
       "    </tr>\n",
       "    <tr>\n",
       "      <td>13063</td>\n",
       "      <td>True</td>\n",
       "      <td>True</td>\n",
       "      <td>True</td>\n",
       "      <td>True</td>\n",
       "      <td>True</td>\n",
       "      <td>True</td>\n",
       "    </tr>\n",
       "    <tr>\n",
       "      <td>13064</td>\n",
       "      <td>True</td>\n",
       "      <td>True</td>\n",
       "      <td>True</td>\n",
       "      <td>True</td>\n",
       "      <td>True</td>\n",
       "      <td>True</td>\n",
       "    </tr>\n",
       "    <tr>\n",
       "      <td>13065</td>\n",
       "      <td>True</td>\n",
       "      <td>True</td>\n",
       "      <td>True</td>\n",
       "      <td>True</td>\n",
       "      <td>True</td>\n",
       "      <td>True</td>\n",
       "    </tr>\n",
       "    <tr>\n",
       "      <td>13066</td>\n",
       "      <td>True</td>\n",
       "      <td>True</td>\n",
       "      <td>True</td>\n",
       "      <td>True</td>\n",
       "      <td>True</td>\n",
       "      <td>True</td>\n",
       "    </tr>\n",
       "    <tr>\n",
       "      <td>13067</td>\n",
       "      <td>True</td>\n",
       "      <td>True</td>\n",
       "      <td>True</td>\n",
       "      <td>True</td>\n",
       "      <td>True</td>\n",
       "      <td>True</td>\n",
       "    </tr>\n",
       "  </tbody>\n",
       "</table>\n",
       "<p>13068 rows × 6 columns</p>\n",
       "</div>"
      ],
      "text/plain": [
       "          0      1     2     3     4     5\n",
       "0      True   True  True  True  True  True\n",
       "1      True   True  True  True  True  True\n",
       "2      True   True  True  True  True  True\n",
       "3      True  False  True  True  True  True\n",
       "4      True  False  True  True  True  True\n",
       "...     ...    ...   ...   ...   ...   ...\n",
       "13063  True   True  True  True  True  True\n",
       "13064  True   True  True  True  True  True\n",
       "13065  True   True  True  True  True  True\n",
       "13066  True   True  True  True  True  True\n",
       "13067  True   True  True  True  True  True\n",
       "\n",
       "[13068 rows x 6 columns]"
      ]
     },
     "execution_count": 17,
     "metadata": {},
     "output_type": "execute_result"
    }
   ],
   "source": [
    "# compare predictions and gound truth\n",
    "\n",
    "import pandas as pd\n",
    "\n",
    "pd_test = pd.DataFrame(y_test)\n",
    "pd_pred = pd.DataFrame(pred_label)\n",
    "\n",
    "com_result = pd_test == pd_pred\n",
    "com_result"
   ]
  },
  {
   "cell_type": "code",
   "execution_count": 18,
   "metadata": {},
   "outputs": [
    {
     "name": "stdout",
     "output_type": "stream",
     "text": [
      "acc: 0.7768595041322314\n"
     ]
    }
   ],
   "source": [
    "# compute overall accuracy\n",
    "\n",
    "num = 0\n",
    "\n",
    "for i in range(len(com_result)):\n",
    "    if all(com_result.iloc[i]):\n",
    "        num += 1\n",
    "        \n",
    "print(\"acc: {}\".format(num/len(com_result)))"
   ]
  },
  {
   "cell_type": "code",
   "execution_count": 19,
   "metadata": {},
   "outputs": [],
   "source": [
    "train_acc = []\n",
    "val_acc = []\n",
    "\n",
    "for i in range(2,8):\n",
    "    train_acc.append(history_train.history['dense_{}_acc'.format(i)])\n",
    "    val_acc.append(history_train.history['val_dense_{}_acc'.format(i)])\n",
    "\n",
    "train_loss = history_train.history['loss']\n",
    "val_loss = history_train.history['val_loss']"
   ]
  },
  {
   "cell_type": "code",
   "execution_count": 20,
   "metadata": {},
   "outputs": [
    {
     "data": {
      "image/png": "[encoded data removed]",
      "text/plain": [
       "<Figure size 576x576 with 2 Axes>"
      ]
     },
     "metadata": {
      "needs_background": "light"
     },
     "output_type": "display_data"
    }
   ],
   "source": [
    "plt.figure(figsize=(8, 8))\n",
    "plt.subplot(2, 1, 1)\n",
    "for i in range(6):\n",
    "    plt.plot(train_acc[i], label='Layer {}'.format(i))\n",
    "plt.legend(loc='lower right')\n",
    "plt.ylabel('Accuracy')\n",
    "plt.ylim([min(plt.ylim()),1])\n",
    "plt.title('Training Accuracy')\n",
    "\n",
    "plt.subplot(2, 1, 2)\n",
    "for i in range(6):\n",
    "    plt.plot(val_acc[i], label='Layer {}'.format(i))\n",
    "plt.legend(loc='lower right')\n",
    "plt.ylabel('Accuracy')\n",
    "plt.ylim([min(plt.ylim()),1])\n",
    "plt.title('Validation Accuracy')\n",
    "\n",
    "plt.xlabel('epoch')\n",
    "plt.show()"
   ]
  },
  {
   "cell_type": "code",
   "execution_count": 21,
   "metadata": {},
   "outputs": [
    {
     "data": {
      "image/png": "[encoded data removed]",
      "text/plain": [
       "<Figure size 576x576 with 1 Axes>"
      ]
     },
     "metadata": {
      "needs_background": "light"
     },
     "output_type": "display_data"
    }
   ],
   "source": [
    "plt.figure(figsize=(8, 8))\n",
    "\n",
    "plt.plot(train_loss, label='Training Loss')\n",
    "plt.plot(val_loss, label='Validation Loss')\n",
    "plt.legend(loc='upper right')\n",
    "plt.ylabel('Cross Entropy')\n",
    "\n",
    "plt.title('Training and Validation Loss')\n",
    "plt.xlabel('epoch')\n",
    "plt.show()"
   ]
  },
  {
   "cell_type": "code",
   "execution_count": null,
   "metadata": {},
   "outputs": [],
   "source": []
  }
 ],
 "metadata": {
  "kernelspec": {
   "display_name": "Python 3",
   "language": "python",
   "name": "python3"
  },
  "language_info": {
   "codemirror_mode": {
    "name": "ipython",
    "version": 3
   },
   "file_extension": ".py",
   "mimetype": "text/x-python",
   "name": "python",
   "nbconvert_exporter": "python",
   "pygments_lexer": "ipython3",
   "version": "3.6.9"
  }
 },
 "nbformat": 4,
 "nbformat_minor": 2
}
